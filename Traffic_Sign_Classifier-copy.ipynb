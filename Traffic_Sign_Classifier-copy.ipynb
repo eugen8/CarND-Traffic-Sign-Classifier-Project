{
 "cells": [
  {
   "cell_type": "markdown",
   "metadata": {},
   "source": [
    "# Self-Driving Car Engineer Nanodegree\n",
    "\n",
    "## Deep Learning\n",
    "\n",
    "## Project: Build a Traffic Sign Recognition Classifier\n",
    "\n",
    "In this notebook, a template is provided for you to implement your functionality in stages which is required to successfully complete this project. If additional code is required that cannot be included in the notebook, be sure that the Python code is successfully imported and included in your submission, if necessary. Sections that begin with **'Implementation'** in the header indicate where you should begin your implementation for your project. Note that some sections of implementation are optional, and will be marked with **'Optional'** in the header.\n",
    "\n",
    "In addition to implementing code, there will be questions that you must answer which relate to the project and your implementation. Each section where you will answer a question is preceded by a **'Question'** header. Carefully read each question and provide thorough answers in the following text boxes that begin with **'Answer:'**. Your project submission will be evaluated based on your answers to each of the questions and the implementation you provide.\n",
    "\n",
    ">**Note:** Code and Markdown cells can be executed using the **Shift + Enter** keyboard shortcut. In addition, Markdown cells can be edited by typically double-clicking the cell to enter edit mode."
   ]
  },
  {
   "cell_type": "markdown",
   "metadata": {},
   "source": [
    "---\n",
    "## Step 0: Load The Data"
   ]
  },
  {
   "cell_type": "code",
   "execution_count": 1,
   "metadata": {
    "collapsed": false
   },
   "outputs": [],
   "source": [
    "# Load pickled data\n",
    "import pickle\n",
    "import numpy as np\n",
    "\n",
    "# TODO: Fill this in based on where you saved the training and testing data\n",
    "\n",
    "training_file = '../train.p'\n",
    "testing_file = '../test.p'\n",
    "\n",
    "with open(training_file, mode='rb') as f:\n",
    "    train = pickle.load(f)\n",
    "with open(testing_file, mode='rb') as f:\n",
    "    test = pickle.load(f)\n",
    "    \n",
    "X_train, y_train = train['features'], train['labels']\n",
    "X_test, y_test = test['features'], test['labels']\n",
    "s_train = train['sizes']\n",
    "c_train = train['coords']\n",
    "\n",
    "# print(s_train.shape, c_train.shape, s_train[10], c_train[10],s_train[121], c_train[121])"
   ]
  },
  {
   "cell_type": "markdown",
   "metadata": {},
   "source": [
    "---\n",
    "\n",
    "## Step 1: Dataset Summary & Exploration\n",
    "\n",
    "The pickled data is a dictionary with 4 key/value pairs:\n",
    "\n",
    "- `'features'` is a 4D array containing raw pixel data of the traffic sign images, (num examples, width, height, channels).\n",
    "- `'labels'` is a 1D array containing the label/class id of the traffic sign. The file `signnames.csv` contains id -> name mappings for each id.\n",
    "- `'sizes'` is a list containing tuples, (width, height) representing the the original width and height the image.\n",
    "- `'coords'` is a list containing tuples, (x1, y1, x2, y2) representing coordinates of a bounding box around the sign in the image. **THESE COORDINATES ASSUME THE ORIGINAL IMAGE. THE PICKLED DATA CONTAINS RESIZED VERSIONS (32 by 32) OF THESE IMAGES**\n",
    "\n",
    "Complete the basic data summary below."
   ]
  },
  {
   "cell_type": "code",
   "execution_count": 2,
   "metadata": {
    "collapsed": false
   },
   "outputs": [
    {
     "name": "stdout",
     "output_type": "stream",
     "text": [
      "Number of training examples = 39209\n",
      "Number of testing examples = 12630\n",
      "Image data shape = (32, 32, 3)\n",
      "Number of classes = 42\n",
      "Shape of one image (width, height, depth) = (32, 32, 3)\n",
      "sizes: (39209, 2)  cords: (39209, 4)\n",
      "max pixel value =  255\n"
     ]
    }
   ],
   "source": [
    "### Replace each question mark with the appropriate value.\n",
    "\n",
    "# TODO: Number of training examples\n",
    "n_train = X_train.shape[0] #39209\n",
    "\n",
    "# TODO: Number of testing examples.\n",
    "n_test = X_test.shape[0] #12630\n",
    "\n",
    "# TODO: What's the shape of an traffic sign image?\n",
    "image_shape = X_train[0].shape\n",
    "\n",
    "# TODO: How many unique classes/labels there are in the dataset.\n",
    "n_classes = np.max(y_test) #42\n",
    "\n",
    "img_maxPixel = np.max(X_train)#255\n",
    "\n",
    "print(\"Number of training examples =\", n_train)\n",
    "print(\"Number of testing examples =\", n_test)\n",
    "print(\"Image data shape =\", image_shape)\n",
    "print(\"Number of classes =\", n_classes)\n",
    "print(\"Shape of one image (width, height, depth) =\", image_shape)\n",
    "print('sizes:',s_train.shape,' cords:',c_train.shape)\n",
    "print('max pixel value = ',img_maxPixel)"
   ]
  },
  {
   "cell_type": "markdown",
   "metadata": {},
   "source": [
    "Visualize the German Traffic Signs Dataset using the pickled file(s). This is open ended, suggestions include: plotting traffic sign images, plotting the count of each sign, etc.\n",
    "\n",
    "The [Matplotlib](http://matplotlib.org/) [examples](http://matplotlib.org/examples/index.html) and [gallery](http://matplotlib.org/gallery.html) pages are a great resource for doing visualizations in Python.\n",
    "\n",
    "**NOTE:** It's recommended you start with something simple first. If you wish to do more, come back to it after you've completed the rest of the sections."
   ]
  },
  {
   "cell_type": "code",
   "execution_count": 3,
   "metadata": {
    "collapsed": false
   },
   "outputs": [
    {
     "name": "stdout",
     "output_type": "stream",
     "text": [
      "Speed limit (20km/h);\n",
      "Speed limit (30km/h);\n",
      "Speed limit (50km/h);\n",
      "Speed limit (60km/h);\n",
      "Speed limit (70km/h);\n",
      "Speed limit (80km/h);\n",
      "End of speed limit (80km/h);\n",
      "Speed limit (100km/h);\n",
      "Speed limit (120km/h);\n",
      "No passing;\n",
      "No passing for vehicles over 3.5 metric tons;\n",
      "Right-of-way at the next intersection;\n",
      "Priority road;\n",
      "Yield;\n",
      "Stop;\n",
      "No vehicles;\n",
      "Vehicles over 3.5 metric tons prohibited;\n",
      "No entry;\n",
      "General caution;\n",
      "Dangerous curve to the left;\n",
      "Dangerous curve to the right;\n",
      "Double curve;\n",
      "Bumpy road;\n",
      "Slippery road;\n",
      "Road narrows on the right;\n",
      "Road work;\n",
      "Traffic signals;\n",
      "Pedestrians;\n",
      "Children crossing;\n",
      "Bicycles crossing;\n",
      "Beware of ice/snow;\n",
      "Wild animals crossing;\n",
      "End of all speed and passing limits;\n",
      "Turn right ahead;\n",
      "Turn left ahead;\n",
      "Ahead only;\n",
      "Go straight or right;\n",
      "Go straight or left;\n",
      "Keep right;\n",
      "Keep left;\n",
      "Roundabout mandatory;\n",
      "End of no passing;\n",
      "End of no passing by vehicles over 3.5 metric tons\n"
     ]
    }
   ],
   "source": [
    "import csv \n",
    "\n",
    "signLabels = []\n",
    "with open('signnames.csv','rt', encoding='ascii') as signNamesFile:\n",
    "    signReader = csv.reader(signNamesFile, delimiter=',')\n",
    "    for row in signReader:\n",
    "#         print(row[1])\n",
    "        signLabels.append(row[1])\n",
    "signLabels = signLabels[1:]        \n",
    "print(\";\\n\".join(signLabels) )"
   ]
  },
  {
   "cell_type": "code",
   "execution_count": 4,
   "metadata": {
    "collapsed": false
   },
   "outputs": [
    {
     "data": {
      "image/png": "[encoded data removed]",
      "text/plain": [
       "<matplotlib.figure.Figure at 0x7fbebe288cc0>"
      ]
     },
     "metadata": {},
     "output_type": "display_data"
    },
    {
     "data": {
      "image/png": "[encoded data removed]",
      "text/plain": [
       "<matplotlib.figure.Figure at 0x7fbebe288c88>"
      ]
     },
     "metadata": {},
     "output_type": "display_data"
    }
   ],
   "source": [
    "### Data exploration visualization goes here.\n",
    "### Feel free to use as many code cells as needed.\n",
    "import matplotlib.pyplot as plt\n",
    "# Visualizations will be shown in the notebook.\n",
    "%matplotlib inline\n",
    "import random\n",
    "\n",
    "def printImgs(x, y, idxArray=None, figsize=(12,12), size1=4, size2=4, cmap=None):\n",
    "    fig = plt.figure(figsize=figsize)\n",
    "    if idxArray==None:\n",
    "        idxArray=np.random.randint(len(x), size=(size1*size2) )\n",
    "    for idx in range( len(idxArray) ):\n",
    "        \n",
    "        plot = fig.add_subplot(4,4,idx+1).axis('off')\n",
    "        imgIdx = idxArray[idx]\n",
    "        plt.title(signLabels[ y[imgIdx]] )\n",
    "        plt.imshow(x[imgIdx].squeeze(), interpolation=\"nearest\", cmap=cmap)\n",
    "        \n",
    "    \n",
    "printImgs(X_train, y_train )\n",
    "printImgs(X_train, y_train, size1=1, figsize=(20,20), size2=1, idxArray=[5000] )"
   ]
  },
  {
   "cell_type": "markdown",
   "metadata": {},
   "source": [
    "----\n",
    "\n",
    "## Step 2: Design and Test a Model Architecture\n",
    "\n",
    "Design and implement a deep learning model that learns to recognize traffic signs. Train and test your model on the [German Traffic Sign Dataset](http://benchmark.ini.rub.de/?section=gtsrb&subsection=dataset).\n",
    "\n",
    "There are various aspects to consider when thinking about this problem:\n",
    "\n",
    "- Neural network architecture\n",
    "- Play around preprocessing techniques (normalization, rgb to grayscale, etc)\n",
    "- Number of examples per label (some have more than others).\n",
    "- Generate fake data.\n",
    "\n",
    "Here is an example of a [published baseline model on this problem](http://yann.lecun.com/exdb/publis/pdf/sermanet-ijcnn-11.pdf). It's not required to be familiar with the approach used in the paper but, it's good practice to try to read papers like these.\n",
    "\n",
    "**NOTE:** The LeNet-5 implementation shown in the [classroom](https://classroom.udacity.com/nanodegrees/nd013/parts/fbf77062-5703-404e-b60c-95b78b2f3f9e/modules/6df7ae49-c61c-4bb2-a23e-6527e69209ec/lessons/601ae704-1035-4287-8b11-e2c2716217ad/concepts/d4aca031-508f-4e0b-b493-e7b706120f81) at the end of the CNN lesson is a solid starting point. You'll have to change the number of classes and possibly the preprocessing, but aside from that it's plug and play!"
   ]
  },
  {
   "cell_type": "markdown",
   "metadata": {},
   "source": [
    "### Implementation\n",
    "\n",
    "Use the code cell (or multiple code cells, if necessary) to implement the first step of your project. Once you have completed your implementation and are satisfied with the results, be sure to thoroughly answer the questions that follow."
   ]
  },
  {
   "cell_type": "code",
   "execution_count": 5,
   "metadata": {
    "collapsed": false
   },
   "outputs": [],
   "source": [
    "# training setup\n",
    "\n",
    "import tensorflow as tf"
   ]
  },
  {
   "cell_type": "code",
   "execution_count": 6,
   "metadata": {
    "collapsed": false
   },
   "outputs": [
    {
     "name": "stdout",
     "output_type": "stream",
     "text": [
      "(39209, 32, 32, 3)\n",
      "(12630, 32, 32, 3)\n",
      "X_trainPreprocessed[9,0,0,:]=[ 0.26666668]\n",
      "after processing image shapes: (39209, 32, 32, 1) (12630, 32, 32, 1)\n",
      "Sample of normalized data [ 0.30588236]\n",
      "Max/min normalized data point  1.0 0.0117647\n"
     ]
    },
    {
     "data": {
      "text/plain": [
       "<matplotlib.figure.Figure at 0x7fbeb7c15588>"
      ]
     },
     "metadata": {},
     "output_type": "display_data"
    },
    {
     "data": {
      "image/png": "[encoded data removed]",
      "text/plain": [
       "<matplotlib.figure.Figure at 0x7fbeb818a208>"
      ]
     },
     "metadata": {},
     "output_type": "display_data"
    },
    {
     "data": {
      "image/png": "[encoded data removed]",
      "text/plain": [
       "<matplotlib.figure.Figure at 0x7fbeb818a0b8>"
      ]
     },
     "metadata": {},
     "output_type": "display_data"
    }
   ],
   "source": [
    "# Grayscale and normalize images through preProcess function.. Notes: fine-tuned the preprocessing,\n",
    "# using in-place modification of the numpy array \n",
    "import cv2\n",
    "\n",
    "IMAGE_DEPTH = 1 #3 if not colored, 1 if grayscale\n",
    "\n",
    "print(X_train.shape)\n",
    "print(X_test.shape)\n",
    "\n",
    "def preProcess(in_images, normalize=True, grayscale=True):\n",
    "    outType = np.float32 if normalize else np.uint8\n",
    "    outImgDimension = 1 if grayscale else 3\n",
    "    imgDimOne = in_images.shape[1]\n",
    "    imgDimTwo = in_images.shape[2]\n",
    "    out_image = np.zeros((len(in_images), imgDimOne , imgDimTwo, outImgDimension), outType)\n",
    "    \n",
    "    \n",
    "    for imgIdx in range(len(in_images)):\n",
    "        img=in_images[imgIdx]\n",
    "        if(grayscale):\n",
    "            img = cv2.cvtColor(in_images[imgIdx], cv2.COLOR_BGR2GRAY)\n",
    "            img = img.reshape((imgDimOne , imgDimTwo, 1))\n",
    "        if(normalize):\n",
    "            img = img/img_maxPixel\n",
    "        out_image[imgIdx]=img    \n",
    "    return out_image    \n",
    "\n",
    "\n",
    "\n",
    "fig2 = plt.figure()\n",
    "\n",
    "X_trainPreprocessed=preProcess(X_train, grayscale=(IMAGE_DEPTH==1), normalize=True)\n",
    "X_testPreprocessed = preProcess(X_test, grayscale=(IMAGE_DEPTH==1))\n",
    "print(\"X_trainPreprocessed[9,0,0,:]={0}\".format(X_trainPreprocessed[9,0,0,:]))\n",
    "print('after processing image shapes:', X_trainPreprocessed.shape, X_testPreprocessed.shape)\n",
    "\n",
    "\n",
    "printImgs(X_trainPreprocessed, y_train, size1=1, figsize=(15,15), size2=1, idxArray=[5000] , cmap='gray')\n",
    "printImgs(X_testPreprocessed, y_test, size1=1, figsize=(15,15), size2=1, idxArray=[5000] , cmap='gray')\n",
    "\n",
    "print(\"Sample of normalized data\", X_trainPreprocessed[0, 0, 0, :])\n",
    "print(\"Max/min normalized data point \", np.max(X_trainPreprocessed),np.min(X_trainPreprocessed))"
   ]
  },
  {
   "cell_type": "code",
   "execution_count": 23,
   "metadata": {
    "collapsed": true
   },
   "outputs": [],
   "source": [
    "from sklearn.utils import shuffle\n",
    "\n",
    "\n",
    "\n",
    "# X_trainPreprocessed, y_train, s_train, c_train = shuffle(X_trainPreprocessed, y_train, s_train, c_train)\n",
    "\n",
    "EPOCHS = 40\n",
    "BATCH_SIZE = 512"
   ]
  },
  {
   "cell_type": "code",
   "execution_count": 19,
   "metadata": {
    "collapsed": true
   },
   "outputs": [],
   "source": [
    "## This code below allows me to get quick results while setting up/troubleshooting the pipeline\n",
    "\n",
    "subsetTrainIdx = n_train #basically all data\n",
    "subsetTestIdx = n_train\n",
    "\n",
    "## split data into training and validation set\n",
    "# X_training, X_validation =  X_trainPreprocessed[:subsetTrainIdx], X_testPreprocessed[:subsetTestIdx]\n",
    "# y_training, y_validation = y_train[:splitIdx], y_train[splitIdx:splitEnd]\n",
    "# s_training, s_validation = s_train[:splitIdx], s_train[splitIdx:splitEnd]\n",
    "# c_training, c_validation = c_train[:splitIdx], c_train[splitIdx:splitEnd]\n",
    "\n",
    "\n",
    "# print(\"X/y training/validation shapes =\",X_training.shape, X_validation.shape, y_training.shape, y_validation.shape)\n",
    "# print(\"c/s training/validation shapes =\", s_training.shape, s_validation.shape, c_training.shape, c_validation.shape)"
   ]
  },
  {
   "cell_type": "markdown",
   "metadata": {},
   "source": [
    "### Question 1 \n",
    "\n",
    "_Describe how you preprocessed the data. Why did you choose that technique?_\n"
   ]
  },
  {
   "cell_type": "markdown",
   "metadata": {},
   "source": [
    "**Answer:**\n",
    "\n",
    "I shuffle the data because I noticed that many consecutive images are simmilar which need shuffled especially if I am planning to divide data between validation and training sets. Also made sure to include all the attributes like sizes, labels, etc. \n",
    "\n",
    "Then I normalized the data, dividing by 255 (max value). I tried a tensorflow l2_normalize, but it was slow or even failing. "
   ]
  },
  {
   "cell_type": "code",
   "execution_count": 9,
   "metadata": {
    "collapsed": true
   },
   "outputs": [],
   "source": [
    "### Generate additional data (OPTIONAL!)\n",
    "### and split the data into training/validation/testing sets here.\n",
    "### Feel free to use as many code cells as needed."
   ]
  },
  {
   "cell_type": "markdown",
   "metadata": {},
   "source": [
    "### Question 2\n",
    "\n",
    "_Describe how you set up the training, validation and testing data for your model. **Optional**: If you generated additional data, how did you generate the data? Why did you generate the data? What are the differences in the new dataset (with generated data) from the original dataset?_\n",
    "\n",
    "I took about a quarter of the dataset as validation set, and left the training set be first 30,000 images after being shuffled. "
   ]
  },
  {
   "cell_type": "markdown",
   "metadata": {},
   "source": [
    "**Answer:**"
   ]
  },
  {
   "cell_type": "code",
   "execution_count": 10,
   "metadata": {
    "collapsed": true
   },
   "outputs": [],
   "source": [
    "### Define your architecture here.\n",
    "### Feel free to use as many code cells as needed.\n",
    "\n",
    "# let's start by repeating LeNet architecture\n",
    "# input - conv+act - pooling - conv+act - pooling - flatten - fullyConnect+act - fullyConnect\n",
    "from tensorflow.contrib.layers import flatten\n",
    "\n",
    "\n",
    "def NNet(x):\n",
    "    mu = 0\n",
    "    sigma = 0.1\n",
    "    \n",
    "    conv1_w = tf.Variable( tf.truncated_normal(shape=(5,5,IMAGE_DEPTH,6), mean=mu, stddev=sigma) )\n",
    "    conv1_b = tf.Variable(tf.zeros(6))\n",
    "    conv1 = tf.nn.conv2d(x, conv1_w, strides=[1,1,1,1], padding='VALID')+conv1_b\n",
    "    conv1 = tf.nn.relu(conv1)\n",
    "    \n",
    "    #Pooling. Input = 28x28x6. Output = 14x14x6.\n",
    "    conv1 = tf.nn.max_pool(conv1, ksize=[1, 2, 2, 1], strides=[1, 2, 2, 1], padding='VALID')\n",
    "    \n",
    "    #Layer 2: Convolutional. Output = 10x10x16.\n",
    "    conv2_W = tf.Variable(tf.truncated_normal(shape=(5, 5, 6, 16), mean = mu, stddev = sigma))\n",
    "    conv2_b = tf.Variable(tf.zeros(16))\n",
    "    conv2   = tf.nn.conv2d(conv1, conv2_W, strides=[1, 1, 1, 1], padding='VALID') + conv2_b\n",
    "    \n",
    "    conv2 = tf.nn.relu(conv2)\n",
    "\n",
    "    #Pooling. Input = 10x10x16. Output = 5x5x16.\n",
    "    conv2 = tf.nn.max_pool(conv2, ksize=[1, 2, 2, 1], strides=[1, 2, 2, 1], padding='VALID')\n",
    "\n",
    "    #Flatten. Input = 5x5x16. Output = 400.\n",
    "    fc0   = flatten(conv2)\n",
    "    \n",
    "    # Layer 3: Fully Connected. Input = 400. Output = 120.\n",
    "    fc1_W = tf.Variable(tf.truncated_normal(shape=(400, 120), mean = mu, stddev = sigma))\n",
    "    fc1_b = tf.Variable(tf.zeros(120))\n",
    "    fc1   = tf.matmul(fc0, fc1_W) + fc1_b\n",
    "    \n",
    "    # Activation.\n",
    "    fc1    = tf.nn.relu(fc1)\n",
    "\n",
    "    # Layer 4: Fully Connected. Input = 120. Output = 84.\n",
    "    fc2_W  = tf.Variable(tf.truncated_normal(shape=(120, 84), mean = mu, stddev = sigma))\n",
    "    fc2_b  = tf.Variable(tf.zeros(84))\n",
    "    fc2    = tf.matmul(fc1, fc2_W) + fc2_b\n",
    "\n",
    "    \n",
    "    # Activation.\n",
    "    fc2    = tf.nn.relu(fc2)\n",
    "    # applying dropout --- will wait on that \n",
    "#     fc2 = tf.nn.dropout(fc2, dropout)\n",
    "    \n",
    "    \n",
    "    # Layer 5: Fully Connected. Input = 84. Output = 10.\n",
    "    fc3_W  = tf.Variable(tf.truncated_normal(shape=(84, 42), mean = mu, stddev = sigma))\n",
    "    fc3_b  = tf.Variable(tf.zeros(42))\n",
    "    \n",
    "    logits = tf.matmul(fc2, fc3_W) + fc3_b\n",
    "    \n",
    "    \n",
    "    \n",
    "\n",
    "    return logits"
   ]
  },
  {
   "cell_type": "code",
   "execution_count": 11,
   "metadata": {
    "collapsed": true
   },
   "outputs": [],
   "source": [
    "### Define your architecture here.\n",
    "### Feel free to use as many code cells as needed.\n",
    "\n",
    "# let's start by repeating LeNet architecture\n",
    "# input - conv+act - pooling - conv+act - pooling - flatten - fullyConnect+act - fullyConnect\n",
    "from tensorflow.contrib.layers import flatten\n",
    "\n",
    "\n",
    "def NNet3(x, dropoutArg):\n",
    "    mu = 0\n",
    "    sigma = 0.1\n",
    "    \n",
    "    conv1_w = tf.Variable( tf.truncated_normal(shape=(5,5,IMAGE_DEPTH,6), mean=mu, stddev=sigma) )\n",
    "    conv1_b = tf.Variable(tf.zeros(6))\n",
    "    conv1 = tf.nn.conv2d(x, conv1_w, strides=[1,1,1,1], padding='VALID')+conv1_b\n",
    "    conv1 = tf.nn.relu(conv1)\n",
    "    \n",
    "    #Pooling. Input = 28x28x6. Output = 14x14x6.\n",
    "    conv1 = tf.nn.avg_pool(conv1, ksize=[1, 2, 2, 1], strides=[1, 2, 2, 1], padding='VALID')\n",
    "    \n",
    "    #Layer 2: Convolutional. Output = 10x10x16.\n",
    "    conv2_W = tf.Variable(tf.truncated_normal(shape=(5, 5, 6, 16), mean = mu, stddev = sigma))\n",
    "    conv2_b = tf.Variable(tf.zeros(16))\n",
    "    conv2   = tf.nn.conv2d(conv1, conv2_W, strides=[1, 1, 1, 1], padding='VALID') + conv2_b\n",
    "    \n",
    "    conv2 = tf.nn.relu(conv2)\n",
    "\n",
    "    #Pooling. Input = 10x10x16. Output = 5x5x16.\n",
    "    conv2 = tf.nn.avg_pool(conv2, ksize=[1, 2, 2, 1], strides=[1, 2, 2, 1], padding='VALID')\n",
    "\n",
    "    #Flatten. Input = 5x5x16. Output = 400.\n",
    "    fc0   = flatten(conv2)\n",
    "    \n",
    "    # Layer 3: Fully Connected. \n",
    "    fc1_W = tf.Variable(tf.truncated_normal(shape=(400, 84), mean = mu, stddev = sigma))\n",
    "    fc1_b = tf.Variable(tf.zeros(84))\n",
    "    fc1   = tf.matmul(fc0, fc1_W) + fc1_b\n",
    "    \n",
    "    # Activation.\n",
    "    fc1    = tf.nn.relu(fc1)\n",
    "    \n",
    "    fc1 = tf.nn.dropout(fc1, dropoutArg)\n",
    "    \n",
    "    # Layer 5: Fully Connected. Input = 84. Output = 10.\n",
    "    fc2_W  = tf.Variable(tf.truncated_normal(shape=(84, 42), mean = mu, stddev = sigma))\n",
    "    fc2_b  = tf.Variable(tf.zeros(42))\n",
    "    \n",
    "    logits = tf.matmul(fc1, fc2_W) + fc2_b\n",
    "    \n",
    "    \n",
    "    \n",
    "\n",
    "    return logits"
   ]
  },
  {
   "cell_type": "code",
   "execution_count": 12,
   "metadata": {
    "collapsed": true
   },
   "outputs": [],
   "source": [
    "### Define your architecture here.\n",
    "### Feel free to use as many code cells as needed.\n",
    "\n",
    "# let's start by repeating LeNet architecture\n",
    "# input - conv+act - pooling - conv+act - pooling - flatten - fullyConnect+act - fullyConnect\n",
    "from tensorflow.contrib.layers import flatten\n",
    "\n",
    "\n",
    "def NNet2(x, dropoutArg):\n",
    "    mu = 0\n",
    "    sigma = 0.1\n",
    "\n",
    "#     Architecture: CONV same out 32x32x6 > pooling out 24x24x6 > conv valid out 20x20x12 > pool valid 10x10x12 > \n",
    "#     fc0(flatten) 1200 >  fc1 1200 to 600 > fc2 600 to 100 > fc3 out 42\n",
    "\n",
    "    \n",
    "    #     input image: 32x32x1 ; out 32x32x6\n",
    "    conv1_w = tf.Variable( tf.truncated_normal(shape=(5,5,IMAGE_DEPTH,6), mean=mu, stddev=sigma) )\n",
    "    conv1_b = tf.Variable(tf.zeros(6))\n",
    "    conv1 = tf.nn.conv2d(x, conv1_w, strides=[1,1,1,1], padding='SAME')+conv1_b\n",
    "    conv1 = tf.nn.relu(conv1)\n",
    "    \n",
    "#     Pooling out 24x24x6\n",
    "    conv1 = tf.nn.avg_pool(conv1, ksize=[1,9,9,1], strides=[1,1,1,1], padding='VALID')\n",
    "    \n",
    "    \n",
    "    \n",
    "    \n",
    "    #Convolution. Input = 24x24x6. Output = 10x10x12.\n",
    "    conv2_w=tf.Variable(tf.truncated_normal( shape=(5,5,6,12) ,mean=mu, stddev=sigma  ))\n",
    "    conv2_b = tf.Variable(tf.zeros(12))\n",
    "    conv2 = tf.nn.conv2d(conv1, conv2_w, strides=[1,2,2,1], padding='VALID')\n",
    "    conv2 = tf.add(conv2, conv2_b)\n",
    "#     print(conv2) 20x20x12\n",
    "    conv2 = tf.nn.relu(conv2)\n",
    "    \n",
    "#     Pooling output 5x5x12\n",
    "    conv2 = tf.nn.avg_pool(conv2, ksize=[1,2,2,1], strides=[1,2,2,1], padding='VALID')\n",
    "#     print(conv2)\n",
    "    \n",
    "    \n",
    "    #Flatten. Output = 300.\n",
    "    fc0   = flatten(conv2)\n",
    "#     print(fc0)\n",
    "    \n",
    "    \n",
    "    \n",
    "    # Layer 3: Fully Connected. Input = 300. Output = 120.\n",
    "    fc1_W = tf.Variable(tf.truncated_normal(shape=(300, 120), mean = mu, stddev = sigma))\n",
    "    fc1_b = tf.Variable(tf.zeros(120))\n",
    "    fc1   = tf.add(tf.matmul(fc0, fc1_W),fc1_b)\n",
    "    \n",
    "    \n",
    "    # Activation.\n",
    "    fc1    = tf.nn.relu(fc1)\n",
    "    print(fc1)\n",
    "\n",
    "    # Layer 4: Fully Connected. Input = 120. Output = 84.\n",
    "    fc2_W  = tf.Variable(tf.truncated_normal(shape=(120, 84), mean = mu, stddev = sigma))\n",
    "    fc2_b  = tf.Variable(tf.zeros(84))\n",
    "    fc2    = tf.matmul(fc1, fc2_W) + fc2_b\n",
    "    print(fc2)\n",
    "    \n",
    "    # Activation.\n",
    "    fc2    = tf.nn.relu(fc2)\n",
    "\n",
    "    fc2 = tf.nn.dropout(fc2, dropoutArg)\n",
    "    \n",
    "    # Layer 5: Fully Connected. Input = 84. Output = 42.\n",
    "    fc3_W  = tf.Variable(tf.truncated_normal(shape=(84, 42), mean = mu, stddev = sigma))\n",
    "    fc3_b  = tf.Variable(tf.zeros(42))\n",
    "    \n",
    "    \n",
    "    logits = tf.matmul(fc2, fc3_W) + fc3_b\n",
    "    \n",
    "    \n",
    "    \n",
    "\n",
    "    return logits"
   ]
  },
  {
   "cell_type": "markdown",
   "metadata": {},
   "source": [
    "### Question 3\n",
    "\n",
    "_What does your final architecture look like? (Type of model, layers, sizes, connectivity, etc.)  For reference on how to build a deep neural network using TensorFlow, see [Deep Neural Network in TensorFlow\n",
    "](https://classroom.udacity.com/nanodegrees/nd013/parts/fbf77062-5703-404e-b60c-95b78b2f3f9e/modules/6df7ae49-c61c-4bb2-a23e-6527e69209ec/lessons/b516a270-8600-4f93-a0a3-20dfeabe5da6/concepts/83a3a2a2-a9bd-4b7b-95b0-eb924ab14432) from the classroom._\n"
   ]
  },
  {
   "cell_type": "markdown",
   "metadata": {},
   "source": [
    "**Answer:**\n",
    "\n",
    "I followed closely LeNet architecture, I have \n",
    "Convolution - relu - pooling --->\n",
    "\n",
    "Convolution - relu - pooling --->\n",
    "\n",
    "fully connected - relu --->\n",
    "\n",
    "fully connected - relu --->\n",
    "\n",
    "fully connected to output "
   ]
  },
  {
   "cell_type": "code",
   "execution_count": 14,
   "metadata": {
    "collapsed": false
   },
   "outputs": [],
   "source": [
    "x = tf.placeholder(tf.float32, (None, 32, 32, IMAGE_DEPTH))\n",
    "y = tf.placeholder(tf.int32, (None))\n",
    "one_hot_y = tf.one_hot(y , 42)\n",
    "keep_prob=tf.placeholder(tf.float32)"
   ]
  },
  {
   "cell_type": "code",
   "execution_count": 20,
   "metadata": {
    "collapsed": false
   },
   "outputs": [],
   "source": [
    "### Train your model here.\n",
    "### Feel free to use as many code cells as needed.\n",
    "\n",
    "rate = 0.0005\n",
    "\n",
    "dropout = 0.5 #not using dropout yet\n",
    "\n",
    "# logits = NNet(x)\n",
    "# logits = NNet2(x, keep_prob)\n",
    "logits = NNet3(x, keep_prob)\n",
    "cross_entropy = tf.nn.softmax_cross_entropy_with_logits(logits, one_hot_y)\n",
    "loss_operation = tf.reduce_mean(cross_entropy)\n",
    "optimizer = tf.train.AdamOptimizer(learning_rate = rate)\n",
    "training_operation = optimizer.minimize(loss_operation)"
   ]
  },
  {
   "cell_type": "code",
   "execution_count": 21,
   "metadata": {
    "collapsed": true
   },
   "outputs": [],
   "source": [
    "correct_prediction = tf.equal(tf.argmax(logits, 1), tf.argmax(one_hot_y, 1))\n",
    "accuracy_operation = tf.reduce_mean(tf.cast(correct_prediction, tf.float32))\n",
    "saver = tf.train.Saver()\n",
    "\n",
    "def evaluate(X_data, y_data):\n",
    "    num_examples = len(X_data)\n",
    "#     num_examples = 500\n",
    "    total_accuracy = 0\n",
    "    sess = tf.get_default_session()\n",
    "    for offset in range(0, num_examples, BATCH_SIZE):\n",
    "        batch_x, batch_y = X_data[offset:offset+BATCH_SIZE], y_data[offset:offset+BATCH_SIZE]\n",
    "        accuracy, loss = sess.run([accuracy_operation, loss_operation], feed_dict={x: batch_x, y: batch_y, keep_prob:1})\n",
    "        total_accuracy += (accuracy * len(batch_x))\n",
    "    return total_accuracy / num_examples, loss"
   ]
  },
  {
   "cell_type": "code",
   "execution_count": 24,
   "metadata": {
    "collapsed": false
   },
   "outputs": [
    {
     "name": "stdout",
     "output_type": "stream",
     "text": [
      "num_examples= 39209\n",
      "Training...\n",
      "\n",
      "EPOCH 1 ...\n",
      "Validation Accuracy = 0.169, loss=3.361\n",
      "EPOCH 2 ...\n",
      "Validation Accuracy = 0.389, loss=2.576\n",
      "EPOCH 3 ...\n",
      "Validation Accuracy = 0.489, loss=1.990\n",
      "EPOCH 4 ...\n",
      "Validation Accuracy = 0.561, loss=1.665\n",
      "EPOCH 5 ...\n",
      "Validation Accuracy = 0.637, loss=1.414\n",
      "EPOCH 6 ...\n",
      "Validation Accuracy = 0.676, loss=1.262\n",
      "EPOCH 7 ...\n",
      "Validation Accuracy = 0.697, loss=1.161\n",
      "EPOCH 8 ...\n",
      "Validation Accuracy = 0.723, loss=1.069\n",
      "EPOCH 9 ...\n",
      "Validation Accuracy = 0.743, loss=1.011\n",
      "EPOCH 10 ...\n",
      "Validation Accuracy = 0.757, loss=0.967\n",
      "EPOCH 11 ...\n",
      "Validation Accuracy = 0.769, loss=0.916\n",
      "EPOCH 12 ...\n",
      "Validation Accuracy = 0.777, loss=0.885\n",
      "EPOCH 13 ...\n",
      "Validation Accuracy = 0.783, loss=0.865\n",
      "EPOCH 14 ...\n",
      "Validation Accuracy = 0.795, loss=0.822\n",
      "EPOCH 15 ...\n",
      "Validation Accuracy = 0.798, loss=0.829\n",
      "EPOCH 16 ...\n",
      "Validation Accuracy = 0.806, loss=0.800\n",
      "EPOCH 17 ...\n",
      "Validation Accuracy = 0.816, loss=0.759\n",
      "EPOCH 18 ...\n",
      "Validation Accuracy = 0.817, loss=0.774\n",
      "EPOCH 19 ...\n",
      "Validation Accuracy = 0.822, loss=0.727\n",
      "EPOCH 20 ...\n",
      "Validation Accuracy = 0.828, loss=0.722\n",
      "EPOCH 21 ...\n",
      "Validation Accuracy = 0.835, loss=0.729\n",
      "EPOCH 22 ...\n",
      "Validation Accuracy = 0.831, loss=0.737\n",
      "EPOCH 23 ...\n",
      "Validation Accuracy = 0.841, loss=0.686\n",
      "EPOCH 24 ...\n",
      "Validation Accuracy = 0.841, loss=0.692\n",
      "EPOCH 25 ...\n",
      "Validation Accuracy = 0.844, loss=0.673\n",
      "EPOCH 26 ...\n",
      "Validation Accuracy = 0.843, loss=0.684\n",
      "EPOCH 27 ...\n",
      "Validation Accuracy = 0.849, loss=0.663\n",
      "EPOCH 28 ...\n",
      "Validation Accuracy = 0.854, loss=0.645\n",
      "EPOCH 29 ...\n",
      "Validation Accuracy = 0.855, loss=0.644\n",
      "EPOCH 30 ...\n",
      "Validation Accuracy = 0.856, loss=0.640\n",
      "EPOCH 31 ...\n",
      "Validation Accuracy = 0.857, loss=0.651\n",
      "EPOCH 32 ...\n",
      "Validation Accuracy = 0.858, loss=0.639\n",
      "EPOCH 33 ...\n",
      "Validation Accuracy = 0.860, loss=0.631\n",
      "EPOCH 34 ...\n",
      "Validation Accuracy = 0.863, loss=0.635\n",
      "EPOCH 35 ...\n",
      "Validation Accuracy = 0.862, loss=0.622\n",
      "EPOCH 36 ...\n",
      "Validation Accuracy = 0.861, loss=0.647\n",
      "EPOCH 37 ...\n",
      "Validation Accuracy = 0.867, loss=0.627\n",
      "EPOCH 38 ...\n",
      "Validation Accuracy = 0.864, loss=0.636\n",
      "EPOCH 39 ...\n",
      "Validation Accuracy = 0.860, loss=0.681\n",
      "EPOCH 40 ...\n",
      "Validation Accuracy = 0.865, loss=0.739\n",
      "Model saved\n"
     ]
    }
   ],
   "source": [
    "with tf.Session() as sess:\n",
    "    sess.run(tf.global_variables_initializer())\n",
    "    num_examples = n_train\n",
    "#     num_examples = 256\n",
    "    print(\"num_examples=\",num_examples)\n",
    "    \n",
    "    print(\"Training...\")\n",
    "    print()\n",
    "    for i in range(EPOCHS):\n",
    "        X_training, y_training = shuffle(X_trainPreprocessed, y_train)\n",
    "#         printImgs(X_training, y_training, size1=1, figsize=(15,15), size2=1, idxArray=[5000] , cmap='gray')\n",
    "        for offset in range(0, num_examples, BATCH_SIZE):\n",
    "            end = offset + BATCH_SIZE\n",
    "            batch_x, batch_y = X_training[offset:end], y_training[offset:end]\n",
    "            sess.run(training_operation, feed_dict={x: batch_x, y: batch_y, keep_prob:dropout})\n",
    "            \n",
    "        validation_accuracy, loss = evaluate(X_testPreprocessed, y_test)\n",
    "        print(\"EPOCH {} ...\".format(i+1))\n",
    "        print(\"Validation Accuracy = {:.3f}, loss={:.3f}\".format(validation_accuracy, loss))\n",
    "        \n",
    "    saver.save(sess, './trafPredResult')\n",
    "    print(\"Model saved\")"
   ]
  },
  {
   "cell_type": "markdown",
   "metadata": {},
   "source": [
    "### Question 4\n",
    "\n",
    "_How did you train your model? (Type of optimizer, batch size, epochs, hyperparameters, etc.)_"
   ]
  },
  {
   "cell_type": "markdown",
   "metadata": {},
   "source": [
    "**Answer:**"
   ]
  },
  {
   "cell_type": "markdown",
   "metadata": {},
   "source": [
    "### Question 5\n",
    "\n",
    "\n",
    "_What approach did you take in coming up with a solution to this problem? It may have been a process of trial and error, in which case, outline the steps you took to get to the final solution and why you chose those steps. Perhaps your solution involved an already well known implementation or architecture. In this case, discuss why you think this is suitable for the current problem._"
   ]
  },
  {
   "cell_type": "markdown",
   "metadata": {},
   "source": [
    "**Answer:**"
   ]
  },
  {
   "cell_type": "markdown",
   "metadata": {},
   "source": [
    "---\n",
    "\n",
    "## Step 3: Test a Model on New Images\n",
    "\n",
    "Take several pictures of traffic signs that you find on the web or around you (at least five), and run them through your classifier on your computer to produce example results. The classifier might not recognize some local signs but it could prove interesting nonetheless.\n",
    "\n",
    "You may find `signnames.csv` useful as it contains mappings from the class id (integer) to the actual sign name."
   ]
  },
  {
   "cell_type": "markdown",
   "metadata": {},
   "source": [
    "### Implementation\n",
    "\n",
    "Use the code cell (or multiple code cells, if necessary) to implement the first step of your project. Once you have completed your implementation and are satisfied with the results, be sure to thoroughly answer the questions that follow."
   ]
  },
  {
   "cell_type": "code",
   "execution_count": null,
   "metadata": {
    "collapsed": true
   },
   "outputs": [],
   "source": [
    "### Load the images and plot them here.\n",
    "### Feel free to use as many code cells as needed."
   ]
  },
  {
   "cell_type": "markdown",
   "metadata": {},
   "source": [
    "### Question 6\n",
    "\n",
    "_Choose five candidate images of traffic signs and provide them in the report. Are there any particular qualities of the image(s) that might make classification difficult? It could be helpful to plot the images in the notebook._\n",
    "\n"
   ]
  },
  {
   "cell_type": "markdown",
   "metadata": {},
   "source": [
    "**Answer:**"
   ]
  },
  {
   "cell_type": "code",
   "execution_count": null,
   "metadata": {
    "collapsed": true
   },
   "outputs": [],
   "source": [
    "### Run the predictions here.\n",
    "### Feel free to use as many code cells as needed."
   ]
  },
  {
   "cell_type": "markdown",
   "metadata": {},
   "source": [
    "### Question 7\n",
    "\n",
    "_Is your model able to perform equally well on captured pictures when compared to testing on the dataset? The simplest way to do this check the accuracy of the predictions. For example, if the model predicted 1 out of 5 signs correctly, it's 20% accurate._\n",
    "\n",
    "_**NOTE:** You could check the accuracy manually by using `signnames.csv` (same directory). This file has a mapping from the class id (0-42) to the corresponding sign name. So, you could take the class id the model outputs, lookup the name in `signnames.csv` and see if it matches the sign from the image._\n"
   ]
  },
  {
   "cell_type": "markdown",
   "metadata": {},
   "source": [
    "**Answer:**"
   ]
  },
  {
   "cell_type": "code",
   "execution_count": null,
   "metadata": {
    "collapsed": true
   },
   "outputs": [],
   "source": [
    "### Visualize the softmax probabilities here.\n",
    "### Feel free to use as many code cells as needed."
   ]
  },
  {
   "cell_type": "markdown",
   "metadata": {},
   "source": [
    "### Question 8\n",
    "\n",
    "*Use the model's softmax probabilities to visualize the **certainty** of its predictions, [`tf.nn.top_k`](https://www.tensorflow.org/versions/r0.12/api_docs/python/nn.html#top_k) could prove helpful here. Which predictions is the model certain of? Uncertain? If the model was incorrect in its initial prediction, does the correct prediction appear in the top k? (k should be 5 at most)*\n",
    "\n",
    "`tf.nn.top_k` will return the values and indices (class ids) of the top k predictions. So if k=3, for each sign, it'll return the 3 largest probabilities (out of a possible 43) and the correspoding class ids.\n",
    "\n",
    "Take this numpy array as an example:\n",
    "\n",
    "```\n",
    "# (5, 6) array\n",
    "a = np.array([[ 0.24879643,  0.07032244,  0.12641572,  0.34763842,  0.07893497,\n",
    "         0.12789202],\n",
    "       [ 0.28086119,  0.27569815,  0.08594638,  0.0178669 ,  0.18063401,\n",
    "         0.15899337],\n",
    "       [ 0.26076848,  0.23664738,  0.08020603,  0.07001922,  0.1134371 ,\n",
    "         0.23892179],\n",
    "       [ 0.11943333,  0.29198961,  0.02605103,  0.26234032,  0.1351348 ,\n",
    "         0.16505091],\n",
    "       [ 0.09561176,  0.34396535,  0.0643941 ,  0.16240774,  0.24206137,\n",
    "         0.09155967]])\n",
    "```\n",
    "\n",
    "Running it through `sess.run(tf.nn.top_k(tf.constant(a), k=3))` produces:\n",
    "\n",
    "```\n",
    "TopKV2(values=array([[ 0.34763842,  0.24879643,  0.12789202],\n",
    "       [ 0.28086119,  0.27569815,  0.18063401],\n",
    "       [ 0.26076848,  0.23892179,  0.23664738],\n",
    "       [ 0.29198961,  0.26234032,  0.16505091],\n",
    "       [ 0.34396535,  0.24206137,  0.16240774]]), indices=array([[3, 0, 5],\n",
    "       [0, 1, 4],\n",
    "       [0, 5, 1],\n",
    "       [1, 3, 5],\n",
    "       [1, 4, 3]], dtype=int32))\n",
    "```\n",
    "\n",
    "Looking just at the first row we get `[ 0.34763842,  0.24879643,  0.12789202]`, you can confirm these are the 3 largest probabilities in `a`. You'll also notice `[3, 0, 5]` are the corresponding indices."
   ]
  },
  {
   "cell_type": "markdown",
   "metadata": {},
   "source": [
    "**Answer:**"
   ]
  },
  {
   "cell_type": "markdown",
   "metadata": {},
   "source": [
    "> **Note**: Once you have completed all of the code implementations and successfully answered each question above, you may finalize your work by exporting the iPython Notebook as an HTML document. You can do this by using the menu above and navigating to  \\n\",\n",
    "    \"**File -> Download as -> HTML (.html)**. Include the finished document along with this notebook as your submission."
   ]
  },
  {
   "cell_type": "code",
   "execution_count": null,
   "metadata": {
    "collapsed": true
   },
   "outputs": [],
   "source": [
    ""
   ]
  }
 ],
 "metadata": {
  "anaconda-cloud": {},
  "kernelspec": {
   "display_name": "Python 3",
   "language": "python",
   "name": "python3"
  },
  "language_info": {
   "codemirror_mode": {
    "name": "ipython",
    "version": 3.0
   },
   "file_extension": ".py",
   "mimetype": "text/x-python",
   "name": "python",
   "nbconvert_exporter": "python",
   "pygments_lexer": "ipython3",
   "version": "3.5.2"
  },
  "widgets": {
   "state": {},
   "version": "1.1.2"
  }
 },
 "nbformat": 4,
 "nbformat_minor": 0
}