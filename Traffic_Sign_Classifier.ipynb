{
 "cells": [
  {
   "cell_type": "markdown",
   "metadata": {},
   "source": [
    "# Self-Driving Car Engineer Nanodegree\n",
    "\n",
    "## Deep Learning\n",
    "\n",
    "## Project: Build a Traffic Sign Recognition Classifier\n",
    "\n",
    "In this notebook, a template is provided for you to implement your functionality in stages which is required to successfully complete this project. If additional code is required that cannot be included in the notebook, be sure that the Python code is successfully imported and included in your submission, if necessary. Sections that begin with **'Implementation'** in the header indicate where you should begin your implementation for your project. Note that some sections of implementation are optional, and will be marked with **'Optional'** in the header.\n",
    "\n",
    "In addition to implementing code, there will be questions that you must answer which relate to the project and your implementation. Each section where you will answer a question is preceded by a **'Question'** header. Carefully read each question and provide thorough answers in the following text boxes that begin with **'Answer:'**. Your project submission will be evaluated based on your answers to each of the questions and the implementation you provide.\n",
    "\n",
    ">**Note:** Code and Markdown cells can be executed using the **Shift + Enter** keyboard shortcut. In addition, Markdown cells can be edited by typically double-clicking the cell to enter edit mode."
   ]
  },
  {
   "cell_type": "markdown",
   "metadata": {},
   "source": [
    "---\n",
    "## Step 0: Load The Data"
   ]
  },
  {
   "cell_type": "code",
   "execution_count": null,
   "metadata": {
    "collapsed": false
   },
   "outputs": [],
   "source": [
    "# Load pickled data\n",
    "import pickle\n",
    "import numpy as np\n",
    "\n",
    "# TODO: Fill this in based on where you saved the training and testing data\n",
    "\n",
    "training_file = '../storage/train.p'\n",
    "testing_file = '../storage/test.p'\n",
    "\n",
    "with open(training_file, mode='rb') as f:\n",
    "    train = pickle.load(f)\n",
    "with open(testing_file, mode='rb') as f:\n",
    "    test = pickle.load(f)\n",
    "    \n",
    "X_train, y_train = train['features'], train['labels']\n",
    "X_test, y_test = test['features'], test['labels']\n",
    "s_train = train['sizes']\n",
    "c_train = train['coords']\n",
    "y_train_incremented = [] #this will be loaded later\n",
    "# print(s_train.shape, c_train.shape, s_train[10], c_train[10],s_train[121], c_train[121])"
   ]
  },
  {
   "cell_type": "markdown",
   "metadata": {},
   "source": [
    "---\n",
    "\n",
    "## Step 1: Dataset Summary & Exploration\n",
    "\n",
    "The pickled data is a dictionary with 4 key/value pairs:\n",
    "\n",
    "- `'features'` is a 4D array containing raw pixel data of the traffic sign images, (num examples, width, height, channels).\n",
    "- `'labels'` is a 1D array containing the label/class id of the traffic sign. The file `signnames.csv` contains id -> name mappings for each id.\n",
    "- `'sizes'` is a list containing tuples, (width, height) representing the the original width and height the image.\n",
    "- `'coords'` is a list containing tuples, (x1, y1, x2, y2) representing coordinates of a bounding box around the sign in the image. **THESE COORDINATES ASSUME THE ORIGINAL IMAGE. THE PICKLED DATA CONTAINS RESIZED VERSIONS (32 by 32) OF THESE IMAGES**\n",
    "\n",
    "Complete the basic data summary below."
   ]
  },
  {
   "cell_type": "code",
   "execution_count": null,
   "metadata": {
    "collapsed": false
   },
   "outputs": [],
   "source": [
    "### Replace each question mark with the appropriate value.\n",
    "\n",
    "# TODO: Number of training examples\n",
    "n_train = X_train.shape[0] #39209\n",
    "\n",
    "# TODO: Number of testing examples.\n",
    "n_test = X_test.shape[0] #12630\n",
    "\n",
    "# TODO: What's the shape of an traffic sign image?\n",
    "image_shape = X_train[0].shape\n",
    "\n",
    "# TODO: How many unique classes/labels there are in the dataset.\n",
    "n_classes = np.max(y_test) #42\n",
    "\n",
    "img_maxPixel = np.max(X_train)#255\n",
    "cols = image_shape[0]\n",
    "rows = image_shape[1]\n",
    "depth_original = image_shape[2]\n",
    "\n",
    "print(\"Number of training examples =\", n_train)\n",
    "print(\"Number of testing examples =\", n_test)\n",
    "print(\"Image data shape =\", image_shape)\n",
    "print(\"Number of classes =\", n_classes)\n",
    "print(\"Shape of one image (width, height, depth) =\", image_shape, \"or ({0},{1},{2})\".format(cols, rows, depth_original))\n",
    "print('sizes:',s_train.shape,' cords:',c_train.shape)\n",
    "print('max pixel value = ',img_maxPixel)"
   ]
  },
  {
   "cell_type": "markdown",
   "metadata": {},
   "source": [
    "Visualize the German Traffic Signs Dataset using the pickled file(s). This is open ended, suggestions include: plotting traffic sign images, plotting the count of each sign, etc.\n",
    "\n",
    "The [Matplotlib](http://matplotlib.org/) [examples](http://matplotlib.org/examples/index.html) and [gallery](http://matplotlib.org/gallery.html) pages are a great resource for doing visualizations in Python.\n",
    "\n",
    "**NOTE:** It's recommended you start with something simple first. If you wish to do more, come back to it after you've completed the rest of the sections."
   ]
  },
  {
   "cell_type": "code",
   "execution_count": null,
   "metadata": {
    "collapsed": false,
    "scrolled": true
   },
   "outputs": [],
   "source": [
    "import csv \n",
    "\n",
    "signLabels = []\n",
    "with open('signnames.csv','rt', encoding='ascii') as signNamesFile:\n",
    "    signReader = csv.reader(signNamesFile, delimiter=',')\n",
    "    for row in signReader:\n",
    "#         print(row[1])\n",
    "        signLabels.append(row[0] + ')' + row[1])\n",
    "signLabels = signLabels[1:]        \n",
    "print(\";\\n\".join(signLabels) )"
   ]
  },
  {
   "cell_type": "code",
   "execution_count": null,
   "metadata": {
    "collapsed": false
   },
   "outputs": [],
   "source": [
    "### Data exploration visualization goes here.\n",
    "### Feel free to use as many code cells as needed.\n",
    "import matplotlib.pyplot as plt\n",
    "# Visualizations will be shown in the notebook.\n",
    "%matplotlib inline\n",
    "import random\n",
    "\n",
    "def printImgs(x, y, idxArray=None, figsize=(12,12), size1=4, size2=4, cmap=None):\n",
    "    fig = plt.figure(figsize=figsize)\n",
    "    if idxArray==None:\n",
    "        idxArray=np.random.randint(len(x), size=(size1*size2) )\n",
    "    for idx in range( len(idxArray) ):\n",
    "        plot = fig.add_subplot(4,4,idx+1)\n",
    "        plot.axis('off')\n",
    "#         plt.xticks([]),plt.yticks([]) # this does the same as plot.axis('off')\n",
    "        imgIdx = idxArray[idx]\n",
    "        plt.title(signLabels[ y[imgIdx]] )\n",
    "        plt.imshow(x[imgIdx].squeeze(), interpolation=\"nearest\", cmap=cmap)\n",
    "        \n"
   ]
  },
  {
   "cell_type": "code",
   "execution_count": null,
   "metadata": {
    "collapsed": false
   },
   "outputs": [],
   "source": [
    "#     print some images\n",
    "printImgs(X_train, y_train )\n",
    "printImgs(X_train, y_train, size1=1, size2=1, figsize=(20,20), idxArray=[5000] )"
   ]
  },
  {
   "cell_type": "markdown",
   "metadata": {},
   "source": [
    "----\n",
    "\n",
    "## Step 2: Design and Test a Model Architecture\n",
    "\n",
    "Design and implement a deep learning model that learns to recognize traffic signs. Train and test your model on the [German Traffic Sign Dataset](http://benchmark.ini.rub.de/?section=gtsrb&subsection=dataset).\n",
    "\n",
    "There are various aspects to consider when thinking about this problem:\n",
    "\n",
    "- Neural network architecture\n",
    "- Play around preprocessing techniques (normalization, rgb to grayscale, etc)\n",
    "- Number of examples per label (some have more than others).\n",
    "- Generate fake data.\n",
    "\n",
    "Here is an example of a [published baseline model on this problem](http://yann.lecun.com/exdb/publis/pdf/sermanet-ijcnn-11.pdf). It's not required to be familiar with the approach used in the paper but, it's good practice to try to read papers like these.\n",
    "\n",
    "**NOTE:** The LeNet-5 implementation shown in the [classroom](https://classroom.udacity.com/nanodegrees/nd013/parts/fbf77062-5703-404e-b60c-95b78b2f3f9e/modules/6df7ae49-c61c-4bb2-a23e-6527e69209ec/lessons/601ae704-1035-4287-8b11-e2c2716217ad/concepts/d4aca031-508f-4e0b-b493-e7b706120f81) at the end of the CNN lesson is a solid starting point. You'll have to change the number of classes and possibly the preprocessing, but aside from that it's plug and play!"
   ]
  },
  {
   "cell_type": "markdown",
   "metadata": {},
   "source": [
    "### Implementation\n",
    "\n",
    "Use the code cell (or multiple code cells, if necessary) to implement the first step of your project. Once you have completed your implementation and are satisfied with the results, be sure to thoroughly answer the questions that follow."
   ]
  },
  {
   "cell_type": "code",
   "execution_count": null,
   "metadata": {
    "collapsed": false
   },
   "outputs": [],
   "source": [
    "# training setup\n",
    "\n",
    "import tensorflow as tf"
   ]
  },
  {
   "cell_type": "code",
   "execution_count": null,
   "metadata": {
    "collapsed": false
   },
   "outputs": [],
   "source": [
    "# Definition of preProcess function (algorithm) and constants, so I can call it on training set and test images\n",
    "# using in-place modification of the numpy array \n",
    "import cv2\n",
    "from skimage import exposure\n",
    "\n",
    "IMAGE_DEPTH = 1 # 3 if not colored, 1 if grayscale\n",
    "\n",
    "print(X_train.shape)\n",
    "print(X_test.shape)\n",
    "\n",
    "PREPROCESS_PARAMS = {'grayscale':True, 'normalize':True, 'doExposure':True, 'doEqualizeHist':False}\n",
    "\n",
    "def preProcess(in_images, progressInfo=False, grayscale=True, normalize=True, doExposure=True, doEqualizeHist=False):\n",
    "    outType = np.float32 if normalize else np.uint8\n",
    "    outImgDimension = 1 if grayscale else 3\n",
    "    imgDimOne = in_images.shape[1]\n",
    "    imgDimTwo = in_images.shape[2]\n",
    "    out_image = np.zeros((len(in_images), imgDimOne , imgDimTwo, outImgDimension), outType)\n",
    "    \n",
    "#     for imgIdx in [5000]:\n",
    "    for imgIdx in range(len(in_images)):\n",
    "        if(progressInfo and imgIdx%100==0):\n",
    "            print(\"preProcessing image {0}\".format(imgIdx))\n",
    "        img=in_images[imgIdx]\n",
    "        if(grayscale):\n",
    "            img = cv2.cvtColor(in_images[imgIdx], cv2.COLOR_BGR2GRAY)\n",
    "            img = img.reshape((imgDimOne , imgDimTwo, 1))\n",
    "        \n",
    "#         The algorithm normalizes the brightness and increases the contrast of the image.\n",
    "        if(doEqualizeHist and grayscale):\n",
    "            img = cv2.equalizeHist(img)\n",
    "        \n",
    "        if(normalize):\n",
    "            img = img/img_maxPixel\n",
    "        # local contrast enhancement http://scikit-image.org/docs/dev/api/skimage.exposure.html\n",
    "        if(doExposure):\n",
    "            img = exposure.equalize_adapthist(img.squeeze())\n",
    "        img = img.reshape((imgDimOne , imgDimTwo, outImgDimension))\n",
    "        out_image[imgIdx]=img    \n",
    "    return out_image"
   ]
  },
  {
   "cell_type": "code",
   "execution_count": null,
   "metadata": {
    "collapsed": false
   },
   "outputs": [],
   "source": [
    "# TEST code - Just to PLAY AROUND with image manipulations\n",
    "\n",
    "\n",
    "### Data exploration visualization goes here.\n",
    "### Feel free to use as many code cells as needed.\n",
    "import matplotlib.pyplot as plt\n",
    "# Visualizations will be shown in the notebook.\n",
    "%matplotlib inline\n",
    "\n",
    "\n",
    "# Grayscale and normalize images through preProcess function.. Notes: fine-tuned the preprocessing,\n",
    "# using in-place modification of the numpy array \n",
    "import cv2\n",
    "from skimage import exposure\n",
    "\n",
    "IMAGE_DEPTH = 1 # 3 if not colored, 1 if grayscale\n",
    "\n",
    "print(X_train.shape)\n",
    "print(X_test.shape)\n",
    "\n",
    "\n",
    "fig2 = plt.figure()\n",
    "\n",
    "X_trainPreprocessed=preProcess(X_train[390:394], **PREPROCESS_PARAMS)\n",
    "        \n",
    "print(X_trainPreprocessed.shape)\n",
    "printImgs(X_trainPreprocessed, y_train[390:394], idxArray=[0,1,2,3], size1=2, size2=2, cmap='gray' )\n",
    "\n",
    "\n",
    "with open('../storage/modified/testSavePickle.p', 'wb') as handle:\n",
    "    pickle.dump(X_trainPreprocessed, handle, protocol=pickle.HIGHEST_PROTOCOL)\n",
    "\n",
    "with open('../storage/modified/testSavePickle.p','rb') as handle:\n",
    "    x2 = pickle.load(handle)\n",
    "\n",
    "print(x2.shape)    \n",
    "img = x2[0]\n",
    "plt.figure()\n",
    "\n",
    "# plt.xticks([]), plt.yticks([])\n",
    "plt.imshow(img.squeeze(), cmap='gray')\n",
    "plt.show()"
   ]
  },
  {
   "cell_type": "code",
   "execution_count": null,
   "metadata": {
    "collapsed": false
   },
   "outputs": [],
   "source": [
    "# playing around\n",
    "X_trainPreprocessed=preProcess(X_train[0:4], grayscale=True, doEqualizeHist=True, normalize=True, doExposure=False)\n",
    "img = X_trainPreprocessed[0]\n",
    "plt.figure()\n",
    "\n",
    "# plt.xticks([]), plt.yticks([])\n",
    "plt.imshow(img.squeeze(), cmap='gray')\n",
    "plt.show()"
   ]
  },
  {
   "cell_type": "code",
   "execution_count": null,
   "metadata": {
    "collapsed": false
   },
   "outputs": [],
   "source": [
    "# Transformation code - to increase the amount of data with rotated and affine transformed images\n",
    "\n",
    "im1 = X_train[500]\n",
    "\n",
    "\n",
    "def transformImage(im1):\n",
    "    \"\"\"Does a small random rotation and affine transformation. Learning from: \n",
    "    http://docs.opencv.org/3.1.0/da/d6e/tutorial_py_geometric_transformations.html \n",
    "    \"\"\"\n",
    "    rotationAngle = np.random.randint(-10,10)\n",
    "    rotationAngle=10\n",
    "    M1 = cv2.getRotationMatrix2D((cols/2, rows/2),rotationAngle, 1)\n",
    "    im1 = cv2.warpAffine(im1, M1, (cols, rows))\n",
    "    pts1 = np.float32([[3,15],[15,15],[32, 25]])\n",
    "    pts2 = np.float32([[3+np.random.randint(-1,1),15+np.random.randint(-1,1)],[15+np.random.randint(-1,1),\\\n",
    "    15+np.random.randint(-1,1)],[32+np.random.randint(-1,1),25+np.random.randint(-1,1)]])\n",
    "    M2 = cv2.getAffineTransform(pts1, pts2)\n",
    "    im1 = cv2.warpAffine(im1, M2, (cols,rows))\n",
    "    return im1\n",
    "\n",
    "im1 = transformImage(im1)\n",
    "plt.imshow(im1);plt.show()"
   ]
  },
  {
   "cell_type": "code",
   "execution_count": null,
   "metadata": {
    "collapsed": false
   },
   "outputs": [],
   "source": [
    "# function to increment images( increase the amount of data)\n",
    "\n",
    "def incrementBuildImages(in_images,in_labels, progressInfo=False):\n",
    "    \"\"\"transformImage images and appends to the end of the list. The new lists are returned.\n",
    "    in_images - images to be transformed and added incremented, in_labels - the labels; \n",
    "    returns out_images and out_labels with the entire set of images/labels \"\"\"\n",
    "    \n",
    "    out_images = np.empty([0,cols,rows,depth_original]).astype(np.uint8)\n",
    "    \n",
    "    out_labels = np.empty([0]).astype(np.uint8)\n",
    "    out_images = np.append(out_images, in_images, axis=0)\n",
    "    out_labels = np.append(out_labels, in_labels, axis=0)\n",
    "    idx = 0;\n",
    "    \n",
    "    for im in in_images:\n",
    "        if progressInfo and idx%50==0 :\n",
    "            print(\"incrementBuildImages processing image idx {0}\".format(idx))\n",
    "        #doing 5 random transformations\n",
    "        for sameImgTransf in range(3):\n",
    "            imTrans1 = transformImage(im)\n",
    "            out_images = np.append(out_images, np.reshape(imTrans1, (1,32,32,3)), axis=0)\n",
    "            out_labels = np.append(out_labels, [in_labels[idx]], axis=0)\n",
    "        idx += 1;\n",
    "    return out_images, out_labels\n",
    "\n",
    "\n"
   ]
  },
  {
   "cell_type": "code",
   "execution_count": null,
   "metadata": {
    "collapsed": false
   },
   "outputs": [],
   "source": [
    "# TEST CODE - to verify the working of the incrementBuildImages on a small subset of images\n",
    "\n",
    "newImgs = np.array([X_train[211],X_train[2900], X_train[1900], X_train[25000]])\n",
    "newLabels = np.array([y_train[211],y_train[2900], y_train[1900], y_train[25000]])\n",
    "print(newImgs.shape)\n",
    "newImgs, newLabels = incrementBuildImages(newImgs[0:4], newLabels[0:4], progressInfo = True)\n",
    "print(\"shape of \",newImgs.shape, newLabels.shape)\n",
    "printImgs(newImgs, newLabels, size1=4, figsize=(15,15), size2=4)\n",
    "\n"
   ]
  },
  {
   "cell_type": "code",
   "execution_count": null,
   "metadata": {
    "collapsed": false
   },
   "outputs": [],
   "source": [
    "import os\n",
    "storageTempPath = '../storage/trainAugmentedData'\n",
    "testPreprocessedFileName = '../storage/testData/testV1SavePickle.p'\n",
    "\n",
    "PROCESS_STORE_BATCH_SIZE = 1000\n",
    "\n",
    "def storeAugmentedData(x, y,  progressInfo=True):\n",
    "    print(\"### storeAugmentedData called, creating transformed and pre-processed images for augmented data ### \")\n",
    "    assert len(y) == len(x)\n",
    "    length = len(x)\n",
    "    for recIdx in range(0, length, PROCESS_STORE_BATCH_SIZE):\n",
    "        endRecordIdx = recIdx+PROCESS_STORE_BATCH_SIZE\n",
    "        if(progressInfo): print(\"processing record {0} through {1}\".format(recIdx, endRecordIdx) )\n",
    "        newImgs, newLabels = incrementBuildImages(x, y, progressInfo = False)\n",
    "        newImgs = preProcess(newImgs, progressInfo=False, **PREPROCESS_PARAMS)\n",
    "        augmImageBatchData = dict(images=newImgs, labels=newLabels)\n",
    "        fileName = storageTempPath+\"/augmDataDump{0}.p\".format(recIdx);\n",
    "        with open(fileName, 'wb') as f:\n",
    "            pickle.dump(augmImageBatchData, f,  protocol=pickle.HIGHEST_PROTOCOL)\n",
    "        if(progressInfo): print(\"batch saved to {0}\".format(fileName));\n",
    "    print(\"# storeAugmentedData called, creating transformed and pre-processed images for augmented data #\")\n",
    "        \n",
    "def storeTestData(x):\n",
    "    X_testTemp = preProcess(x, progressInfo=True, **PREPROCESS_PARAMS)\n",
    "    with open(testPreprocessedFileName, 'wb') as handle:\n",
    "        pickle.dump(X_testTemp, handle, protocol=pickle.HIGHEST_PROTOCOL)\n",
    "\n"
   ]
  },
  {
   "cell_type": "code",
   "execution_count": null,
   "metadata": {
    "collapsed": false
   },
   "outputs": [],
   "source": [
    "# PREPROCESSING AND TRANSFORMATION - saving and loading the data\n",
    "\n",
    "X_trainPreprocessed = np.empty([0,32,32,1], np.uint8)\n",
    "X_testPreprocessed = np.empty([0,32,32,1], np.uint8)\n",
    "y_train_incremented = np.empty([0], np.uint8)    \n",
    "\n",
    "\n",
    "if not os.path.exists(storageTempPath):\n",
    "    os.makedirs(storageTempPath)\n",
    "if not os.path.exists('../storage/testData/'):\n",
    "    os.makedirs('../storage/testData/')\n",
    "\n",
    "\n",
    "# conditions wheather to process or not the data if it already exists\n",
    "if os.path.exists(storageTempPath+\"/augmDataDump0.p\") :\n",
    "    print('augmDataDump0.p exists, so seems like augmented data exists already')\n",
    "else:\n",
    "    print('augmented data doesn\\'t seem to exists, will start creating it')\n",
    "    rangeStart = 0; rangeEnd = len(X_train)\n",
    "    storeAugmentedData(X_train[rangeStart:rangeEnd], y_train[rangeStart:rangeEnd], progressInfo=True)\n",
    "\n",
    "if os.path.exists(testPreprocessedFileName):\n",
    "    print(\"test data {0} file already exists\".format(testPreprocessedFileName))\n",
    "else:\n",
    "    storeTestData(X_test)\n",
    "\n",
    "\n"
   ]
  },
  {
   "cell_type": "code",
   "execution_count": null,
   "metadata": {
    "collapsed": true
   },
   "outputs": [],
   "source": [
    "# Load pre-processed and transformed data, and test data\n",
    "for filename in os.listdir(storageTempPath):\n",
    "    with open(os.path.join(storageTempPath,filename), 'rb') as f:\n",
    "        augmImageBatchData = pickle.load(f)\n",
    "        images = augmImageBatchData['images']\n",
    "        labels = augmImageBatchData['labels']\n",
    "        X_trainPreprocessed = np.append(X_trainPreprocessed, images, axis=0)\n",
    "        y_train_incremented = np.append(y_train_incremented, labels)\n",
    "\n",
    "with open(testPreprocessedFileName,'rb') as handle:\n",
    "    X_testPreprocessed = pickle.load(handle)\n",
    "\n",
    "print('X_trainPreprocessed', X_trainPreprocessed.shape)\n",
    "print('y_train_incremented', y_train_incremented.shape)\n",
    "print('X_testPreprocessed', X_testPreprocessed.shape)\n",
    "print('y_test', y_test.shape)\n"
   ]
  },
  {
   "cell_type": "code",
   "execution_count": null,
   "metadata": {
    "collapsed": false,
    "scrolled": true
   },
   "outputs": [],
   "source": [
    "# preprocessing verifications\n",
    "\n",
    "print(\"X_trainPreprocessed[9,0,0,:]={0}\".format(X_trainPreprocessed[9,0,0,:]))\n",
    "print('after processing image shapes:', X_trainPreprocessed.shape, X_testPreprocessed.shape)\n",
    "\n",
    "\n",
    "printImgs(X_trainPreprocessed, y_train_incremented, size1=1, figsize=(15,15), size2=1, idxArray=[100] , cmap='gray')\n",
    "printImgs(X_testPreprocessed, y_test, size1=1, figsize=(15,15), size2=1, idxArray=[100] , cmap='gray')\n",
    "\n",
    "print(\"Sample of normalized data\", X_trainPreprocessed[0, 0, 0, :])\n",
    "print(\"Max/min normalized data point \", np.max(X_trainPreprocessed),np.min(X_trainPreprocessed))\n",
    "\n",
    "printImgs(X_trainPreprocessed, y_train_incremented, idxArray=[0,1,2,3], size1=2, size2=2, cmap='gray' )"
   ]
  },
  {
   "cell_type": "code",
   "execution_count": null,
   "metadata": {
    "collapsed": false
   },
   "outputs": [],
   "source": []
  },
  {
   "cell_type": "code",
   "execution_count": null,
   "metadata": {
    "collapsed": true
   },
   "outputs": [],
   "source": [
    "from sklearn.utils import shuffle\n",
    "\n",
    "\n",
    "EPOCHS = 20\n",
    "# EPOCHS = 4\n",
    "BATCH_SIZE = 512"
   ]
  },
  {
   "cell_type": "code",
   "execution_count": null,
   "metadata": {
    "collapsed": false
   },
   "outputs": [],
   "source": [
    "## This code below allows me to get quick results while setting up/troubleshooting the pipeline\n",
    "\n",
    "splitRatio = 0.75\n",
    "print(n_train)\n",
    "\n",
    "def randomValidationSplit(X,y,splitRationParam=splitRatio):\n",
    "    X, y = shuffle(X, y)\n",
    "    subsetTrainIdx = int(len(X)*splitRationParam)\n",
    "    ## split training data into training and validation set\n",
    "    X_training, X_validation =  X[:subsetTrainIdx], X[subsetTrainIdx:]\n",
    "    y_training, y_validation = y[:subsetTrainIdx], y[subsetTrainIdx:]\n",
    "    return (X_training, y_training, X_validation, y_validation)\n",
    "\n",
    "\n",
    "X_training, y_training, X_validation, y_validation = randomValidationSplit(X_trainPreprocessed, y_train_incremented)\n",
    "\n",
    "\n",
    "print(\"X/y training/validation shapes =\",X_training.shape, X_validation.shape, y_training.shape, y_validation.shape)\n",
    "\n",
    "printImgs(X_training, y_training, idxArray=[0,1,2,3], size1=2, size2=2, cmap='gray' )\n",
    "\n",
    "printImgs(X_validation, y_validation, idxArray=[0,1,2,3], size1=2, size2=2, cmap='gray' )"
   ]
  },
  {
   "cell_type": "markdown",
   "metadata": {},
   "source": [
    "### Question 1 \n",
    "\n",
    "_Describe how you preprocessed the data. Why did you choose that technique?_\n"
   ]
  },
  {
   "cell_type": "markdown",
   "metadata": {},
   "source": [
    "**Answer:**\n",
    "\n",
    "I shuffle the data because I noticed that many consecutive images are simmilar which need shuffled especially if I am planning to divide data between validation and training sets. Also made sure to include all the attributes like sizes, labels, etc. \n",
    "\n",
    "Then I normalized the data, dividing by 255 (max value). I tried a tensorflow l2_normalize, but it was slow or even failing. "
   ]
  },
  {
   "cell_type": "code",
   "execution_count": null,
   "metadata": {
    "collapsed": true
   },
   "outputs": [],
   "source": [
    "### Generate additional data (OPTIONAL!)\n",
    "### and split the data into training/validation/testing sets here.\n",
    "### Feel free to use as many code cells as needed."
   ]
  },
  {
   "cell_type": "markdown",
   "metadata": {},
   "source": [
    "### Question 2\n",
    "\n",
    "_Describe how you set up the training, validation and testing data for your model. **Optional**: If you generated additional data, how did you generate the data? Why did you generate the data? What are the differences in the new dataset (with generated data) from the original dataset?_\n",
    "\n",
    "I took about a quarter of the dataset as validation set, and left the training set be first 30,000 images after being shuffled. "
   ]
  },
  {
   "cell_type": "markdown",
   "metadata": {},
   "source": [
    "**Answer:**"
   ]
  },
  {
   "cell_type": "code",
   "execution_count": null,
   "metadata": {
    "collapsed": true
   },
   "outputs": [],
   "source": [
    "### Define your architecture here.\n",
    "### Feel free to use as many code cells as needed.\n",
    "\n",
    "# let's start by repeating LeNet architecture\n",
    "# input - conv+act - pooling - conv+act - pooling - flatten - fullyConnect+act - fullyConnect\n",
    "from tensorflow.contrib.layers import flatten\n",
    "\n",
    "\n",
    "def NNet4(x, dropoutArg):\n",
    "    mu = 0\n",
    "    sigma = 0.1\n",
    "    \n",
    "    conv0_w = tf.Variable( tf.truncated_normal(shape=(5,5,IMAGE_DEPTH,3), mean=mu, stddev=sigma) )\n",
    "    conv0_b = tf.Variable(tf.zeros(3))\n",
    "    conv0 = tf.nn.conv2d(x, conv0_w, strides=[1,1,1,1], padding='SAME')+conv0_b\n",
    "    conv0 = tf.nn.relu(conv0)\n",
    "    \n",
    "\n",
    "    conv1_w = tf.Variable( tf.truncated_normal(shape=(5,5, 3,6), mean=mu, stddev=sigma) )\n",
    "    conv1_b = tf.Variable(tf.zeros(6))\n",
    "    conv1 = tf.nn.conv2d(conv0, conv1_w, strides=[1,1,1,1], padding='VALID')+conv1_b\n",
    "    conv1 = tf.nn.relu(conv1)\n",
    "    \n",
    "    #Pooling. Input = 28x28x6. Output = 14x14x6.\n",
    "    conv1 = tf.nn.avg_pool(conv1, ksize=[1, 2, 2, 1], strides=[1, 2, 2, 1], padding='VALID')\n",
    "    \n",
    "    #Layer 2: Convolutional. Output = 10x10x16.\n",
    "    conv2_W = tf.Variable(tf.truncated_normal(shape=(5, 5, 6, 16), mean = mu, stddev = sigma))\n",
    "    conv2_b = tf.Variable(tf.zeros(16))\n",
    "    conv2   = tf.nn.conv2d(conv1, conv2_W, strides=[1, 1, 1, 1], padding='VALID') + conv2_b\n",
    "    \n",
    "    conv2 = tf.nn.relu(conv2)\n",
    "\n",
    "    #Pooling. Input = 10x10x16. Output = 5x5x16.\n",
    "    conv2 = tf.nn.avg_pool(conv2, ksize=[1, 2, 2, 1], strides=[1, 2, 2, 1], padding='VALID')\n",
    "\n",
    "    #Flatten. Input = 5x5x16. Output = 400.\n",
    "    fc0   = flatten(conv2)\n",
    "    \n",
    "    # Layer 3: Fully Connected. \n",
    "    fc1_W = tf.Variable(tf.truncated_normal(shape=(400, 84), mean = mu, stddev = sigma))\n",
    "    fc1_b = tf.Variable(tf.zeros(84))\n",
    "    fc1   = tf.matmul(fc0, fc1_W) + fc1_b\n",
    "    \n",
    "    # Activation.\n",
    "    fc1    = tf.nn.relu(fc1)\n",
    "    \n",
    "    fc1 = tf.nn.dropout(fc1, dropoutArg)\n",
    "    \n",
    "    # Layer 5: Fully Connected. Input = 84. Output = 10.\n",
    "    fc2_W  = tf.Variable(tf.truncated_normal(shape=(84, 42), mean = mu, stddev = sigma))\n",
    "    fc2_b  = tf.Variable(tf.zeros(42))\n",
    "    \n",
    "    logits = tf.matmul(fc1, fc2_W) + fc2_b\n",
    "    \n",
    "\n",
    "    return logits\n",
    "#\n",
    "\n",
    "\n",
    "\n",
    "# some alternatives I tried:\n",
    "# 1) Pooling. Input = 28x28x6. Output = 14x14x6.-> #Pooling. Input = 10x10x16. Output = 5x5x16. ->\n",
    "#   flatten. In=5x5x16,Out= 400-> Fully Connected in=400,out=120 -> relu -> Fully Connected in=120,Out=84 -> Activation"
   ]
  },
  {
   "cell_type": "markdown",
   "metadata": {},
   "source": [
    "### Question 3\n",
    "\n",
    "_What does your final architecture look like? (Type of model, layers, sizes, connectivity, etc.)  For reference on how to build a deep neural network using TensorFlow, see [Deep Neural Network in TensorFlow\n",
    "](https://classroom.udacity.com/nanodegrees/nd013/parts/fbf77062-5703-404e-b60c-95b78b2f3f9e/modules/6df7ae49-c61c-4bb2-a23e-6527e69209ec/lessons/b516a270-8600-4f93-a0a3-20dfeabe5da6/concepts/83a3a2a2-a9bd-4b7b-95b0-eb924ab14432) from the classroom._\n"
   ]
  },
  {
   "cell_type": "markdown",
   "metadata": {},
   "source": [
    "**Answer:**\n",
    "\n",
    "I followed closely LeNet architecture, I have \n",
    "Convolution - relu - pooling --->\n",
    "\n",
    "Convolution - relu - pooling --->\n",
    "\n",
    "fully connected - relu --->\n",
    "\n",
    "fully connected - relu --->\n",
    "\n",
    "fully connected to output "
   ]
  },
  {
   "cell_type": "code",
   "execution_count": null,
   "metadata": {
    "collapsed": false
   },
   "outputs": [],
   "source": [
    "x = tf.placeholder(tf.float32, (None, 32, 32, IMAGE_DEPTH))\n",
    "y = tf.placeholder(tf.int32, (None))\n",
    "learning_rate_plh = tf.placeholder(tf.float32, (None))\n",
    "one_hot_y = tf.one_hot(y , 42)\n",
    "keep_prob=tf.placeholder(tf.float32)\n",
    "ratePlh = tf.placeholder(tf.float32)"
   ]
  },
  {
   "cell_type": "code",
   "execution_count": null,
   "metadata": {
    "collapsed": false
   },
   "outputs": [],
   "source": [
    "### Train your model here.\n",
    "### Feel free to use as many code cells as needed.\n",
    "\n",
    "\n",
    "rate = 0.0002\n",
    "rate_1 = 0.001\n",
    "rate_2 = 0.0002\n",
    "# rate = 0.001\n",
    "\n",
    "ratesToMaxEpoch = [(0.01,2),(0.01, 4), (0.001, 6), (0.0001, 1000)]\n",
    "\n",
    "dropout = 0.5 #not using dropout yet\n",
    "# logits = NNet(x)\n",
    "# logits = NNet2(x, keep_prob)\n",
    "# logits = NNet3(x, keep_prob)\n",
    "logits = NNet4(x, keep_prob)\n",
    "cross_entropy = tf.nn.softmax_cross_entropy_with_logits(logits, one_hot_y)\n",
    "loss_operation = tf.reduce_mean(cross_entropy)\n",
    "optimizer = tf.train.AdamOptimizer(learning_rate=learning_rate_plh)\n",
    "training_operation = optimizer.minimize(loss_operation)"
   ]
  },
  {
   "cell_type": "code",
   "execution_count": null,
   "metadata": {
    "collapsed": true
   },
   "outputs": [],
   "source": [
    "correct_prediction = tf.equal(tf.argmax(logits, 1), tf.argmax(one_hot_y, 1))\n",
    "accuracy_operation = tf.reduce_mean(tf.cast(correct_prediction, tf.float32))\n",
    "saver = tf.train.Saver()\n",
    "\n",
    "def evaluate(X_data, y_data):\n",
    "    num_examples = len(X_data)\n",
    "    total_accuracy = 0\n",
    "    sess = tf.get_default_session()\n",
    "    for offset in range(0, num_examples, BATCH_SIZE):\n",
    "        batch_x, batch_y = X_data[offset:offset+BATCH_SIZE], y_data[offset:offset+BATCH_SIZE]\n",
    "        accuracy, loss = sess.run([accuracy_operation, loss_operation], feed_dict={x: batch_x, y: batch_y, keep_prob:1})\n",
    "        total_accuracy += (accuracy * len(batch_x))\n",
    "    return total_accuracy / num_examples, loss"
   ]
  },
  {
   "cell_type": "code",
   "execution_count": null,
   "metadata": {
    "collapsed": false,
    "scrolled": true
   },
   "outputs": [],
   "source": [
    "with tf.Session() as sess:\n",
    "    sess.run(tf.global_variables_initializer())\n",
    "    print(\"Training...\")\n",
    "    print()\n",
    "    rateIdx = 0;\n",
    "    currentRate = rate;\n",
    "    for i in range(EPOCHS):\n",
    "        if i < 5 :\n",
    "            currentRate = rate_1\n",
    "        else:\n",
    "            currentRate = rate_2\n",
    "            \n",
    "#         currentRate, maxEp = ratesToMaxEpoch[rateIdx];\n",
    "#         if(maxEp==i):\n",
    "#             rateIdx+=1;\n",
    "#         print('Rate: {0}'.format(currentRate))    \n",
    "\n",
    "        X_training, y_training, X_validation, y_validation = randomValidationSplit(X_trainPreprocessed[:],\n",
    "                                                                                   y_train_incremented[:])\n",
    "\n",
    "    #         printImgs(X_training, y_training, size1=1, figsize=(15,15), size2=1, idxArray=[5000] , cmap='gray')\n",
    "        for offset in range(0, len(X_training), BATCH_SIZE):\n",
    "            end = offset + BATCH_SIZE\n",
    "            batch_x, batch_y = X_training[offset:end], y_training[offset:end]\n",
    "            \n",
    "            sess.run(training_operation, feed_dict={x: batch_x, y: batch_y, \n",
    "                                                    keep_prob:dropout, learning_rate_plh:currentRate})  #,rate:currentRate \n",
    "            \n",
    "        validation_accuracy, loss = evaluate(X_validation, y_validation)\n",
    "        print(\"EPOCH {} ...\".format(i+1))\n",
    "        print(\"Validation Accuracy = {:.3f}, loss={:.3f}\".format(validation_accuracy, loss))\n",
    "        \n",
    "    test_accuracy, loss = evaluate(X_testPreprocessed, y_test)\n",
    "    print(\"Test Accuracy = {:.3f}, loss={:.3f}\".format(test_accuracy, loss))\n",
    "    \n",
    "    \n",
    "    saver.save(sess, './trafPredResult')\n",
    "    print(\"Model saved\")"
   ]
  },
  {
   "cell_type": "markdown",
   "metadata": {},
   "source": [
    "### Question 4\n",
    "\n",
    "_How did you train your model? (Type of optimizer, batch size, epochs, hyperparameters, etc.)_"
   ]
  },
  {
   "cell_type": "markdown",
   "metadata": {},
   "source": [
    "**Answer:**"
   ]
  },
  {
   "cell_type": "markdown",
   "metadata": {},
   "source": [
    "### Question 5\n",
    "\n",
    "\n",
    "_What approach did you take in coming up with a solution to this problem? It may have been a process of trial and error, in which case, outline the steps you took to get to the final solution and why you chose those steps. Perhaps your solution involved an already well known implementation or architecture. In this case, discuss why you think this is suitable for the current problem._"
   ]
  },
  {
   "cell_type": "markdown",
   "metadata": {},
   "source": [
    "**Answer:**"
   ]
  },
  {
   "cell_type": "markdown",
   "metadata": {},
   "source": [
    "---\n",
    "\n",
    "## Step 3: Test a Model on New Images\n",
    "\n",
    "Take several pictures of traffic signs that you find on the web or around you (at least five), and run them through your classifier on your computer to produce example results. The classifier might not recognize some local signs but it could prove interesting nonetheless.\n",
    "\n",
    "You may find `signnames.csv` useful as it contains mappings from the class id (integer) to the actual sign name."
   ]
  },
  {
   "cell_type": "markdown",
   "metadata": {},
   "source": [
    "### Implementation\n",
    "\n",
    "Use the code cell (or multiple code cells, if necessary) to implement the first step of your project. Once you have completed your implementation and are satisfied with the results, be sure to thoroughly answer the questions that follow."
   ]
  },
  {
   "cell_type": "code",
   "execution_count": null,
   "metadata": {
    "collapsed": true
   },
   "outputs": [],
   "source": [
    "\n"
   ]
  },
  {
   "cell_type": "code",
   "execution_count": null,
   "metadata": {
    "collapsed": false
   },
   "outputs": [],
   "source": [
    "### Load the images and plot them here.\n",
    "### Feel free to use as many code cells as needed.\n",
    "import os\n",
    "\n",
    "images = np.empty([0,32,32,3]).astype(np.uint8)\n",
    "filenames = []\n",
    "computedLabels = np.empty([0,1])\n",
    "folderName = 'customImg'\n",
    "for filename in os.listdir(folderName):\n",
    "    testim = cv2.imread(os.path.join(folderName, filename))\n",
    "    testim = cv2.cvtColor(testim, cv2.COLOR_BGR2RGB)\n",
    "    testim = np.reshape(testim, (1,32,32,3))\n",
    "    images = np.append(images, testim , axis=0)\n",
    "    filenames.append(filename)\n",
    "\n",
    "testLabelIdx = None\n",
    "\n",
    "imagesProc = preProcess(images, **PREPROCESS_PARAMS)\n",
    "\n",
    "\n",
    "with tf.Session() as sess:\n",
    "    s = tf.train.latest_checkpoint('.')\n",
    "    saver.restore(sess, tf.train.latest_checkpoint('.'))\n",
    "\n",
    "#     print(imagesProc.shape)\n",
    "    logit = sess.run(logits,feed_dict={x:imagesProc,keep_prob:1.0})\n",
    "    print(logit.shape)\n",
    "    v = sess.run(tf.argmax(logit, 1))\n",
    "    testLabelIdx = v\n",
    "    print(type(testLabelIdx))\n",
    "    print('My images - Neural Network results (indexes) =', np.array2string( testLabelIdx, separator=', ') )\n",
    "\n",
    "print(\"images shape=\", images.shape)\n",
    "printImgs(images,testLabelIdx, size1=5, size2=1, idxArray=[0,1,2,3,4])\n",
    "\n"
   ]
  },
  {
   "cell_type": "markdown",
   "metadata": {},
   "source": [
    "### Question 6\n",
    "\n",
    "_Choose five candidate images of traffic signs and provide them in the report. Are there any particular qualities of the image(s) that might make classification difficult? It could be helpful to plot the images in the notebook._\n",
    "\n"
   ]
  },
  {
   "cell_type": "markdown",
   "metadata": {},
   "source": [
    "**Answer:**\n",
    "I plotted the images above, with the labels. \n",
    "First when I tried with original data set (without incrementing it extra transformed images), it predicted correctly one or two images.  \n",
    "The reason I believe is because the images were slightly different. Transfromation should help.\n",
    "After running on the dataset with the transformation the result is: \n",
    "...\n"
   ]
  },
  {
   "cell_type": "code",
   "execution_count": null,
   "metadata": {
    "collapsed": true
   },
   "outputs": [],
   "source": [
    "### Run the predictions here.\n",
    "### Feel free to use as many code cells as needed."
   ]
  },
  {
   "cell_type": "markdown",
   "metadata": {},
   "source": [
    "### Question 7\n",
    "\n",
    "_Is your model able to perform equally well on captured pictures when compared to testing on the dataset? The simplest way to do this check the accuracy of the predictions. For example, if the model predicted 1 out of 5 signs correctly, it's 20% accurate._\n",
    "\n",
    "_**NOTE:** You could check the accuracy manually by using `signnames.csv` (same directory). This file has a mapping from the class id (0-42) to the corresponding sign name. So, you could take the class id the model outputs, lookup the name in `signnames.csv` and see if it matches the sign from the image._\n"
   ]
  },
  {
   "cell_type": "markdown",
   "metadata": {},
   "source": [
    "**Answer:**\n",
    "\n",
    "the accuracy wasn't as high on my images. I used the lables from signnames.csv to visualize the output and the lable on the same plot, so was able to see if the image matches the label. \n",
    "\n",
    "Next, using softmax to compute the results gives me:\n"
   ]
  },
  {
   "cell_type": "code",
   "execution_count": null,
   "metadata": {
    "collapsed": true
   },
   "outputs": [],
   "source": [
    "### Visualize the softmax probabilities here.\n",
    "### Feel free to use as many code cells as needed."
   ]
  },
  {
   "cell_type": "markdown",
   "metadata": {},
   "source": [
    "### Question 8\n",
    "\n",
    "*Use the model's softmax probabilities to visualize the **certainty** of its predictions, [`tf.nn.top_k`](https://www.tensorflow.org/versions/r0.12/api_docs/python/nn.html#top_k) could prove helpful here. Which predictions is the model certain of? Uncertain? If the model was incorrect in its initial prediction, does the correct prediction appear in the top k? (k should be 5 at most)*\n",
    "\n",
    "`tf.nn.top_k` will return the values and indices (class ids) of the top k predictions. So if k=3, for each sign, it'll return the 3 largest probabilities (out of a possible 43) and the correspoding class ids.\n",
    "\n",
    "Take this numpy array as an example:\n",
    "\n",
    "```\n",
    "# (5, 6) array\n",
    "a = np.array([[ 0.24879643,  0.07032244,  0.12641572,  0.34763842,  0.07893497,\n",
    "         0.12789202],\n",
    "       [ 0.28086119,  0.27569815,  0.08594638,  0.0178669 ,  0.18063401,\n",
    "         0.15899337],\n",
    "       [ 0.26076848,  0.23664738,  0.08020603,  0.07001922,  0.1134371 ,\n",
    "         0.23892179],\n",
    "       [ 0.11943333,  0.29198961,  0.02605103,  0.26234032,  0.1351348 ,\n",
    "         0.16505091],\n",
    "       [ 0.09561176,  0.34396535,  0.0643941 ,  0.16240774,  0.24206137,\n",
    "         0.09155967]])\n",
    "```\n",
    "\n",
    "Running it through `sess.run(tf.nn.top_k(tf.constant(a), k=3))` produces:\n",
    "\n",
    "```\n",
    "TopKV2(values=array([[ 0.34763842,  0.24879643,  0.12789202],\n",
    "       [ 0.28086119,  0.27569815,  0.18063401],\n",
    "       [ 0.26076848,  0.23892179,  0.23664738],\n",
    "       [ 0.29198961,  0.26234032,  0.16505091],\n",
    "       [ 0.34396535,  0.24206137,  0.16240774]]), indices=array([[3, 0, 5],\n",
    "       [0, 1, 4],\n",
    "       [0, 5, 1],\n",
    "       [1, 3, 5],\n",
    "       [1, 4, 3]], dtype=int32))\n",
    "```\n",
    "\n",
    "Looking just at the first row we get `[ 0.34763842,  0.24879643,  0.12789202]`, you can confirm these are the 3 largest probabilities in `a`. You'll also notice `[3, 0, 5]` are the corresponding indices."
   ]
  },
  {
   "cell_type": "markdown",
   "metadata": {},
   "source": [
    "**Answer:**"
   ]
  },
  {
   "cell_type": "markdown",
   "metadata": {},
   "source": [
    "> **Note**: Once you have completed all of the code implementations and successfully answered each question above, you may finalize your work by exporting the iPython Notebook as an HTML document. You can do this by using the menu above and navigating to  \\n\",\n",
    "    \"**File -> Download as -> HTML (.html)**. Include the finished document along with this notebook as your submission."
   ]
  },
  {
   "cell_type": "code",
   "execution_count": null,
   "metadata": {
    "collapsed": false
   },
   "outputs": [],
   "source": []
  },
  {
   "cell_type": "code",
   "execution_count": null,
   "metadata": {
    "collapsed": true
   },
   "outputs": [],
   "source": []
  }
 ],
 "metadata": {
  "anaconda-cloud": {},
  "kernelspec": {
   "display_name": "Python 3",
   "language": "python",
   "name": "python3"
  },
  "language_info": {
   "codemirror_mode": {
    "name": "ipython",
    "version": 3
   },
   "file_extension": ".py",
   "mimetype": "text/x-python",
   "name": "python",
   "nbconvert_exporter": "python",
   "pygments_lexer": "ipython3",
   "version": "3.5.2"
  },
  "widgets": {
   "state": {},
   "version": "1.1.2"
  }
 },
 "nbformat": 4,
 "nbformat_minor": 0
}
